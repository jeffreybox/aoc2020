{
 "cells": [
  {
   "cell_type": "markdown",
   "metadata": {},
   "source": [
    "https://adventofcode.com/2020/day/1"
   ]
  },
  {
   "cell_type": "markdown",
   "metadata": {},
   "source": [
    "# Part 1\n",
    "---\n",
    "**Problem:** Find the two entries that sum to 2020. What do you get if you multiply them together?"
   ]
  },
  {
   "cell_type": "code",
   "execution_count": 2,
   "metadata": {},
   "outputs": [],
   "source": [
    "# dependencies\n",
    "import numpy as np\n",
    "import pandas as pd"
   ]
  },
  {
   "cell_type": "code",
   "execution_count": 3,
   "metadata": {},
   "outputs": [
    {
     "name": "stdout",
     "output_type": "stream",
     "text": [
      "length: 200\n",
      "length: 200\n"
     ]
    },
    {
     "data": {
      "text/plain": [
       "[1826, 1895, 1427, 1931, 1651]"
      ]
     },
     "execution_count": 3,
     "metadata": {},
     "output_type": "execute_result"
    }
   ],
   "source": [
    "# data import\n",
    "df = pd.read_csv('data/d1_data.csv', header=None, names=['entries'])\n",
    "print(f'length: {len(df)}')\n",
    "ls = df['entries'].tolist()\n",
    "print(f'length: {len(ls)}')\n",
    "ls[0:5]"
   ]
  },
  {
   "cell_type": "code",
   "execution_count": 4,
   "metadata": {},
   "outputs": [
    {
     "name": "stdout",
     "output_type": "stream",
     "text": [
      "Part 1:  1958 * 62 = 121396\n"
     ]
    }
   ],
   "source": [
    "# loop conditional\n",
    "x = 0 \n",
    "rng = np.arange(len(ls)-1)+1\n",
    "\n",
    "for i in ls:\n",
    "    for r in rng:\n",
    "        j = ls[r]\n",
    "        if i+j == 2020:\n",
    "            answer = i*j \n",
    "            print(\"Part 1: \",i,\"*\",j, \"=\",answer)\n",
    "            break\n",
    "    else:\n",
    "        continue\n",
    "    break"
   ]
  },
  {
   "cell_type": "markdown",
   "metadata": {},
   "source": [
    "# Part 2\n",
    "---\n",
    "\n",
    "**Problem:** In your expense report, what is the product of the three entries that sum to 2020?"
   ]
  },
  {
   "cell_type": "code",
   "execution_count": 5,
   "metadata": {},
   "outputs": [
    {
     "name": "stdout",
     "output_type": "stream",
     "text": [
      "Part 2:  426 * 1477 * 117 = 73616634\n"
     ]
    }
   ],
   "source": [
    "# nested loop conditional\n",
    "i = 0\n",
    "rng = np.arange(len(ls)-1)+1\n",
    "rng2 = np.arange(len(ls)-2)+2\n",
    "\n",
    "for x in ls:\n",
    "    for r in rng:\n",
    "        y = ls[r]\n",
    "        for s in rng2:\n",
    "            z = ls[s]\n",
    "            if x+y+z == 2020:\n",
    "                answer = x*y*z \n",
    "                print(\"Part 2: \",x,\"*\",y, \"*\",z, \"=\", answer)\n",
    "                break\n",
    "        else:\n",
    "            continue\n",
    "        break\n",
    "    else:\n",
    "        continue\n",
    "    break"
   ]
  }
 ],
 "metadata": {
  "kernelspec": {
   "display_name": "Python 3",
   "language": "python",
   "name": "python3"
  },
  "language_info": {
   "codemirror_mode": {
    "name": "ipython",
    "version": 3
   },
   "file_extension": ".py",
   "mimetype": "text/x-python",
   "name": "python",
   "nbconvert_exporter": "python",
   "pygments_lexer": "ipython3",
   "version": "3.7.4"
  }
 },
 "nbformat": 4,
 "nbformat_minor": 4
}
