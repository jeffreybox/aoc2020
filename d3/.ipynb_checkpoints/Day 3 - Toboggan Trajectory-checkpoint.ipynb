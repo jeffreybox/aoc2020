{
 "cells": [
  {
   "cell_type": "markdown",
   "metadata": {},
   "source": [
    "# Day 3 - Toboggan Trajectory\n",
    "\n",
    "With the toboggan login problems resolved, you set off toward the airport. While travel by toboggan might be easy, it's certainly not safe: there's very minimal steering and the area is covered in trees. You'll need to see which angles will take you near the fewest trees.\n",
    "\n",
    "Due to the local geology, trees in this area only grow on exact integer coordinates in a grid. You make a map (your puzzle input) of the open squares (.) and trees (#) you can see. For example:\n",
    "\n",
    "..##.......\n",
    "#...#...#..\n",
    ".#....#..#.\n",
    "..#.#...#.#\n",
    ".#...##..#.\n",
    "..#.##.....\n",
    ".#.#.#....#\n",
    ".#........#\n",
    "#.##...#...\n",
    "#...##....#\n",
    ".#..#...#.#\n",
    "\n",
    "These aren't the only trees, though; due to something you read about once involving arboreal genetics and biome stability, the same pattern repeats to the right many times:\n",
    "\n",
    "..##.........##.........##.........##.........##.........##.......  --->\n",
    "#...#...#..#...#...#..#...#...#..#...#...#..#...#...#..#...#...#..\n",
    ".#....#..#..#....#..#..#....#..#..#....#..#..#....#..#..#....#..#.\n",
    "..#.#...#.#..#.#...#.#..#.#...#.#..#.#...#.#..#.#...#.#..#.#...#.#\n",
    ".#...##..#..#...##..#..#...##..#..#...##..#..#...##..#..#...##..#.\n",
    "..#.##.......#.##.......#.##.......#.##.......#.##.......#.##.....  --->\n",
    ".#.#.#....#.#.#.#....#.#.#.#....#.#.#.#....#.#.#.#....#.#.#.#....#\n",
    ".#........#.#........#.#........#.#........#.#........#.#........#\n",
    "#.##...#...#.##...#...#.##...#...#.##...#...#.##...#...#.##...#...\n",
    "#...##....##...##....##...##....##...##....##...##....##...##....#\n",
    ".#..#...#.#.#..#...#.#.#..#...#.#.#..#...#.#.#..#...#.#.#..#...#.#  --->\n",
    "\n",
    "**You start on the open square (.) in the top-left corner and need to reach the bottom (below the bottom-most row on your map).**\n",
    "\n",
    "The toboggan can only follow a few specific slopes (you opted for a cheaper model that prefers rational numbers); start by counting all the trees you would encounter for the slope right 3, down 1:\n",
    "\n",
    "From your starting position at the top-left, check the position that is right 3 and down 1. Then, check the position that is right 3 and down 1 from there, and so on until you go past the bottom of the map.\n",
    "\n",
    "The locations you'd check in the above example are marked here with O where there was an open square and X where there was a tree:\n",
    "\n",
    "..##.........##.........##.........##.........##.........##.......  --->\n",
    "#..O#...#..#...#...#..#...#...#..#...#...#..#...#...#..#...#...#..\n",
    ".#....X..#..#....#..#..#....#..#..#....#..#..#....#..#..#....#..#.\n",
    "..#.#...#O#..#.#...#.#..#.#...#.#..#.#...#.#..#.#...#.#..#.#...#.#\n",
    ".#...##..#..X...##..#..#...##..#..#...##..#..#...##..#..#...##..#.\n",
    "..#.##.......#.X#.......#.##.......#.##.......#.##.......#.##.....  --->\n",
    ".#.#.#....#.#.#.#.O..#.#.#.#....#.#.#.#....#.#.#.#....#.#.#.#....#\n",
    ".#........#.#........X.#........#.#........#.#........#.#........#\n",
    "#.##...#...#.##...#...#.X#...#...#.##...#...#.##...#...#.##...#...\n",
    "#...##....##...##....##...#X....##...##....##...##....##...##....#\n",
    ".#..#...#.#.#..#...#.#.#..#...X.#.#..#...#.#.#..#...#.#.#..#...#.#  --->\n",
    "\n",
    "In this example, traversing the map using this slope would cause you to encounter 7 trees.\n",
    "\n",
    "Starting at the top-left corner of your map and following a slope of right 3 and down 1, how many trees would you encounter?"
   ]
  },
  {
   "cell_type": "markdown",
   "metadata": {},
   "source": [
    "# Part 1"
   ]
  },
  {
   "cell_type": "code",
   "execution_count": 1,
   "metadata": {},
   "outputs": [],
   "source": [
    "file = 'data/d3_data.txt'\n",
    "delim = '\\n'\n",
    "\n",
    "\"\"\"Opening a file\"\"\"\n",
    "file = open(file,\"r\") \n",
    "counter = 0\n",
    "  \n",
    "\"\"\"Reading from file\"\"\"\n",
    "content = file.read() \n",
    "colist = content.split(delim) \n",
    "\n",
    "\"\"\"Iterate through each line of the file\"\"\"\n",
    "for i in colist: \n",
    "    if i: \n",
    "        counter += 1"
   ]
  },
  {
   "cell_type": "code",
   "execution_count": 4,
   "metadata": {},
   "outputs": [
    {
     "name": "stdout",
     "output_type": "stream",
     "text": [
      "......#...........#...#........\n",
      ".#.....#...##.......#.....##...\n"
     ]
    }
   ],
   "source": [
    "# test what the slopes look like\n",
    "print(colist[0])\n",
    "print(colist[1])"
   ]
  },
  {
   "cell_type": "code",
   "execution_count": 2,
   "metadata": {},
   "outputs": [
    {
     "name": "stdout",
     "output_type": "stream",
     "text": [
      "This is the length of a single slope\n",
      "31\n",
      "This is the number of lines in the file\n",
      "323\n",
      "This is how far horizontally we'll be after 323 downhills\n",
      "969\n",
      "This is how many times the map needs to be duplicated\n",
      "31.26\n"
     ]
    }
   ],
   "source": [
    "print(\"This is the length of a single slope\")\n",
    "slope = len(colist[0])\n",
    "print(slope)\n",
    "\n",
    "print(\"This is the number of lines in the file\") \n",
    "print(counter) \n",
    "\n",
    "print(f\"This is how far horizontally we'll be after {counter} downhills\")\n",
    "endpoint = counter*3\n",
    "print(endpoint)\n",
    "\n",
    "print(\"This is how many times the map needs to be duplicated\")\n",
    "mapdupe = round(endpoint/slope,2)\n",
    "print(mapdupe)"
   ]
  },
  {
   "cell_type": "code",
   "execution_count": 3,
   "metadata": {},
   "outputs": [
    {
     "name": "stdout",
     "output_type": "stream",
     "text": [
      "original x coordinates\n",
      "322\n",
      "[3, 6, 9, 12, 15, 18, 21, 24, 27, 30, 33, 36, 39, 42, 45, 48, 51, 54, 57, 60, 63, 66, 69, 72, 75, 78, 81, 84, 87, 90, 93, 96, 99, 102, 105, 108, 111, 114, 117, 120, 123, 126, 129, 132, 135, 138, 141, 144, 147, 150, 153, 156, 159, 162, 165, 168, 171, 174, 177, 180, 183, 186, 189, 192, 195, 198, 201, 204, 207, 210, 213, 216, 219, 222, 225, 228, 231, 234, 237, 240, 243, 246, 249, 252, 255, 258, 261, 264, 267, 270, 273, 276, 279, 282, 285, 288, 291, 294, 297, 300, 303, 306, 309, 312, 315, 318, 321, 324, 327, 330, 333, 336, 339, 342, 345, 348, 351, 354, 357, 360, 363, 366, 369, 372, 375, 378, 381, 384, 387, 390, 393, 396, 399, 402, 405, 408, 411, 414, 417, 420, 423, 426, 429, 432, 435, 438, 441, 444, 447, 450, 453, 456, 459, 462, 465, 468, 471, 474, 477, 480, 483, 486, 489, 492, 495, 498, 501, 504, 507, 510, 513, 516, 519, 522, 525, 528, 531, 534, 537, 540, 543, 546, 549, 552, 555, 558, 561, 564, 567, 570, 573, 576, 579, 582, 585, 588, 591, 594, 597, 600, 603, 606, 609, 612, 615, 618, 621, 624, 627, 630, 633, 636, 639, 642, 645, 648, 651, 654, 657, 660, 663, 666, 669, 672, 675, 678, 681, 684, 687, 690, 693, 696, 699, 702, 705, 708, 711, 714, 717, 720, 723, 726, 729, 732, 735, 738, 741, 744, 747, 750, 753, 756, 759, 762, 765, 768, 771, 774, 777, 780, 783, 786, 789, 792, 795, 798, 801, 804, 807, 810, 813, 816, 819, 822, 825, 828, 831, 834, 837, 840, 843, 846, 849, 852, 855, 858, 861, 864, 867, 870, 873, 876, 879, 882, 885, 888, 891, 894, 897, 900, 903, 906, 909, 912, 915, 918, 921, 924, 927, 930, 933, 936, 939, 942, 945, 948, 951, 954, 957, 960, 963, 966]\n",
      "modulated x coordinates\n",
      "322\n",
      "[3, 6, 9, 12, 15, 18, 21, 24, 27, 30, 2, 5, 8, 11, 14, 17, 20, 23, 26, 29, 1, 4, 7, 10, 13, 16, 19, 22, 25, 28, 0, 3, 6, 9, 12, 15, 18, 21, 24, 27, 30, 2, 5, 8, 11, 14, 17, 20, 23, 26, 29, 1, 4, 7, 10, 13, 16, 19, 22, 25, 28, 0, 3, 6, 9, 12, 15, 18, 21, 24, 27, 30, 2, 5, 8, 11, 14, 17, 20, 23, 26, 29, 1, 4, 7, 10, 13, 16, 19, 22, 25, 28, 0, 3, 6, 9, 12, 15, 18, 21, 24, 27, 30, 2, 5, 8, 11, 14, 17, 20, 23, 26, 29, 1, 4, 7, 10, 13, 16, 19, 22, 25, 28, 0, 3, 6, 9, 12, 15, 18, 21, 24, 27, 30, 2, 5, 8, 11, 14, 17, 20, 23, 26, 29, 1, 4, 7, 10, 13, 16, 19, 22, 25, 28, 0, 3, 6, 9, 12, 15, 18, 21, 24, 27, 30, 2, 5, 8, 11, 14, 17, 20, 23, 26, 29, 1, 4, 7, 10, 13, 16, 19, 22, 25, 28, 0, 3, 6, 9, 12, 15, 18, 21, 24, 27, 30, 2, 5, 8, 11, 14, 17, 20, 23, 26, 29, 1, 4, 7, 10, 13, 16, 19, 22, 25, 28, 0, 3, 6, 9, 12, 15, 18, 21, 24, 27, 30, 2, 5, 8, 11, 14, 17, 20, 23, 26, 29, 1, 4, 7, 10, 13, 16, 19, 22, 25, 28, 0, 3, 6, 9, 12, 15, 18, 21, 24, 27, 30, 2, 5, 8, 11, 14, 17, 20, 23, 26, 29, 1, 4, 7, 10, 13, 16, 19, 22, 25, 28, 0, 3, 6, 9, 12, 15, 18, 21, 24, 27, 30, 2, 5, 8, 11, 14, 17, 20, 23, 26, 29, 1, 4, 7, 10, 13, 16, 19, 22, 25, 28, 0, 3, 6, 9, 12, 15, 18, 21, 24, 27, 30, 2, 5]\n"
     ]
    }
   ],
   "source": [
    "i = 0\n",
    "x = 0\n",
    "ls = []\n",
    "\n",
    "\"\"\"traverse the length of the hill and create a list of x coordinates for each slope of the hill\"\"\"\n",
    "while i < counter-1:\n",
    "    x += 3\n",
    "    ls.append(x)\n",
    "    i+=1\n",
    "print('original x coordinates')\n",
    "print(len(ls))\n",
    "print(ls)\n",
    "\n",
    "\"\"\"use modulus to \"loop\" the string - in this way we account for the infinite landscape\"\"\"\n",
    "mls = [x % 31 for x in ls]\n",
    "print('modulated x coordinates')\n",
    "print(len(mls))\n",
    "print([item for item in mls])"
   ]
  },
  {
   "cell_type": "code",
   "execution_count": 5,
   "metadata": {},
   "outputs": [],
   "source": [
    "\"\"\"for each slope in the hill, access the element based on the modulated x coordinate\"\"\"\n",
    "y = 1\n",
    "final = []\n",
    "for i in mls:\n",
    "    final.append(colist[y][i])\n",
    "    y+=1"
   ]
  },
  {
   "cell_type": "code",
   "execution_count": 7,
   "metadata": {},
   "outputs": [
    {
     "name": "stdout",
     "output_type": "stream",
     "text": [
      "322\n",
      "['.', '#', '.', '#', '#', '#', '#', '#', '.', '#', '#', '#', '#', '#', '#', '#', '#', '#', '#', '.', '#', '#', '#', '#', '#', '#', '.', '#', '#', '#', '#', '#', '#', '#', '.', '#', '#', '#', '#', '#', '#', '#', '#', '.', '#', '#', '#', '#', '#', '.', '.', '#', '#', '#', '#', '#', '.', '.', '#', '#', '#', '.', '#', '#', '#', '#', '#', '#', '#', '#', '#', '#', '#', '.', '.', '#', '#', '#', '#', '#', '#', '#', '#', '#', '.', '.', '.', '#', '#', '#', '#', '#', '#', '#', '#', '.', '.', '#', '#', '.', '#', '#', '.', '#', '#', '#', '#', '#', '#', '.', '#', '#', '#', '#', '#', '#', '#', '#', '#', '#', '.', '.', '#', '#', '#', '#', '#', '.', '#', '#', '#', '#', '.', '#', '#', '#', '#', '#', '#', '#', '#', '#', '#', '#', '#', '#', '.', '#', '.', '#', '#', '#', '#', '.', '#', '#', '#', '.', '#', '#', '.', '#', '#', '#', '#', '#', '#', '#', '.', '#', '#', '#', '.', '#', '.', '.', '#', '#', '#', '#', '#', '#', '#', '#', '#', '.', '#', '#', '#', '#', '#', '#', '#', '#', '.', '#', '#', '.', '#', '.', '#', '#', '#', '.', '#', '#', '#', '#', '#', '#', '.', '#', '#', '#', '#', '#', '#', '#', '.', '.', '.', '#', '#', '.', '#', '#', '#', '#', '#', '#', '#', '.', '#', '.', '#', '.', '#', '#', '#', '#', '#', '#', '#', '#', '#', '.', '#', '#', '#', '#', '#', '.', '#', '#', '#', '#', '#', '.', '#', '#', '#', '#', '#', '#', '#', '#', '#', '.', '#', '#', '#', '#', '#', '.', '#', '#', '#', '#', '#', '#', '#', '#', '#', '#', '#', '#', '#', '#', '#', '#', '#', '.', '.', '.', '#', '#', '#', '#', '.', '#', '.', '#', '#', '.', '#', '#', '#', '.', '#', '.', '#', '#', '#', '.', '#', '#', '#', '#', '.', '#', '#', '#']\n",
      "number of trees on my map: 259\n"
     ]
    }
   ],
   "source": [
    "\"\"\"answer to part 1\"\"\"\n",
    "print(len(final))\n",
    "print([item for item in final])\n",
    "answer1 = final.count('#')\n",
    "print(f'number of trees on my map: {answer1}')"
   ]
  },
  {
   "cell_type": "markdown",
   "metadata": {},
   "source": [
    "# Part 2\n",
    "\n",
    "Time to check the rest of the slopes - you need to minimize the probability of a sudden arboreal stop, after all.\n",
    "\n",
    "Determine the number of trees you would encounter if, for each of the following slopes, you start at the top-left corner and traverse the map all the way to the bottom:\n",
    "\n",
    "* Right 1, down 1.\n",
    "* Right 3, down 1. (This is the slope you already checked.)\n",
    "* Right 5, down 1.\n",
    "* Right 7, down 1.\n",
    "* Right 1, down 2.\n",
    "\n",
    "In the above example, these slopes would find 2, 7, 3, 4, and 2 tree(s) respectively; multiplied together, these produce the answer 336.\n",
    "\n",
    "What do you get if you multiply together the number of trees encountered on each of the listed slopes?"
   ]
  },
  {
   "cell_type": "code",
   "execution_count": 53,
   "metadata": {},
   "outputs": [],
   "source": [
    "def coordinate(right,down):\n",
    "    i = 0\n",
    "    x = 0\n",
    "    ls = []\n",
    "\n",
    "    \"\"\"traverse the length of the hill and create a list of x coordinates for each slope of the hill\"\"\"\n",
    "    while i < counter-1:\n",
    "        x += right\n",
    "        ls.append(x)\n",
    "        i+=1\n",
    "    #print('original x coordinates')\n",
    "    #print(len(ls))\n",
    "    #print(ls)\n",
    "\n",
    "    \"\"\"use modulus to \"loop\" the string - in this way we account for the infinite landscape\"\"\"\n",
    "    mls = [x % 31 for x in ls]\n",
    "    #print('modulated x coordinates')\n",
    "    #print(len(mls))\n",
    "    #print([item for item in mls])\n",
    "    \n",
    "    y = down\n",
    "    final = []\n",
    "    for i in mls:\n",
    "        if y < counter:\n",
    "            final.append(colist[y][i])\n",
    "            y+=down\n",
    "        else:\n",
    "            break\n",
    "    \n",
    "    answer = final.count('#')\n",
    "    return answer"
   ]
  },
  {
   "cell_type": "code",
   "execution_count": 55,
   "metadata": {},
   "outputs": [
    {
     "name": "stdout",
     "output_type": "stream",
     "text": [
      "64\n",
      "259\n",
      "65\n",
      "59\n",
      "35\n"
     ]
    }
   ],
   "source": [
    "r1d1 = coordinate(1,1)\n",
    "print(r1d1)\n",
    "r3d1 = coordinate(3,1)\n",
    "print(r3d1)\n",
    "r5d1 = coordinate(5,1)\n",
    "print(r5d1)\n",
    "r7d1 = coordinate(7,1)\n",
    "print(r7d1)\n",
    "r1d2 = coordinate(1,2)\n",
    "print(r1d2)"
   ]
  },
  {
   "cell_type": "code",
   "execution_count": 56,
   "metadata": {},
   "outputs": [
    {
     "data": {
      "text/plain": [
       "2224913600"
      ]
     },
     "execution_count": 56,
     "metadata": {},
     "output_type": "execute_result"
    }
   ],
   "source": [
    "answer2 = r1d1*r3d1*r5d1*r7d1*r1d2\n",
    "print(answer2)"
   ]
  }
 ],
 "metadata": {
  "kernelspec": {
   "display_name": "Python 3",
   "language": "python",
   "name": "python3"
  },
  "language_info": {
   "codemirror_mode": {
    "name": "ipython",
    "version": 3
   },
   "file_extension": ".py",
   "mimetype": "text/x-python",
   "name": "python",
   "nbconvert_exporter": "python",
   "pygments_lexer": "ipython3",
   "version": "3.7.4"
  }
 },
 "nbformat": 4,
 "nbformat_minor": 2
}
