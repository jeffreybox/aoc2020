{
 "cells": [
  {
   "cell_type": "markdown",
   "metadata": {},
   "source": [
    "https://adventofcode.com/2020/day/3"
   ]
  },
  {
   "cell_type": "markdown",
   "metadata": {},
   "source": [
    "# Part 1\n",
    "--- \n",
    "**Problem:** Starting at the top-left corner of your map and following a slope of right 3 and down 1, how many trees would you encounter?"
   ]
  },
  {
   "cell_type": "code",
   "execution_count": 4,
   "metadata": {},
   "outputs": [],
   "source": [
    "# import data \n",
    "file = 'data/d3_data.txt'\n",
    "delim = '\\n'\n",
    "with open(file, \"r\") as f:\n",
    "    content = f.read()\n",
    "colist = content.split(delim) \n",
    "counter = len(colist)"
   ]
  },
  {
   "cell_type": "code",
   "execution_count": 18,
   "metadata": {},
   "outputs": [
    {
     "name": "stdout",
     "output_type": "stream",
     "text": [
      "......#...........#...#........\n",
      ".#.....#...##.......#.....##...\n",
      "This is the length of a single slope: 31\n",
      "This is the number of lines in the file: 323\n",
      "This is how far horizontally we'll be after 323 downhills: 969\n",
      "This is how many times the map needs to be duplicated: 31.26\n"
     ]
    }
   ],
   "source": [
    "# test what the slopes look like\n",
    "print(colist[0])\n",
    "print(colist[1])\n",
    "slope = len(colist[0])\n",
    "print(f\"This is the length of a single slope: {slope}\")\n",
    "print(f\"This is the number of lines in the file: {counter}\") \n",
    "endpoint = counter*3\n",
    "print(f\"This is how far horizontally we'll be after {counter} downhills: {endpoint}\")\n",
    "mapdupe = round(endpoint/slope,2)\n",
    "print(f\"This is how many times the map needs to be duplicated: {mapdupe}\")"
   ]
  },
  {
   "cell_type": "code",
   "execution_count": 14,
   "metadata": {},
   "outputs": [
    {
     "name": "stdout",
     "output_type": "stream",
     "text": [
      "original x coordinates\n",
      "322\n",
      "[3, 6, 9, 12, 15, 18, 21, 24, 27, 30, 33, 36, 39, 42, 45, 48, 51, 54, 57, 60, 63, 66, 69, 72, 75, 78, 81, 84, 87, 90, 93, 96, 99, 102, 105, 108, 111, 114, 117, 120, 123, 126, 129, 132, 135, 138, 141, 144, 147, 150, 153, 156, 159, 162, 165, 168, 171, 174, 177, 180, 183, 186, 189, 192, 195, 198, 201, 204, 207, 210, 213, 216, 219, 222, 225, 228, 231, 234, 237, 240, 243, 246, 249, 252, 255, 258, 261, 264, 267, 270, 273, 276, 279, 282, 285, 288, 291, 294, 297, 300, 303, 306, 309, 312, 315, 318, 321, 324, 327, 330, 333, 336, 339, 342, 345, 348, 351, 354, 357, 360, 363, 366, 369, 372, 375, 378, 381, 384, 387, 390, 393, 396, 399, 402, 405, 408, 411, 414, 417, 420, 423, 426, 429, 432, 435, 438, 441, 444, 447, 450, 453, 456, 459, 462, 465, 468, 471, 474, 477, 480, 483, 486, 489, 492, 495, 498, 501, 504, 507, 510, 513, 516, 519, 522, 525, 528, 531, 534, 537, 540, 543, 546, 549, 552, 555, 558, 561, 564, 567, 570, 573, 576, 579, 582, 585, 588, 591, 594, 597, 600, 603, 606, 609, 612, 615, 618, 621, 624, 627, 630, 633, 636, 639, 642, 645, 648, 651, 654, 657, 660, 663, 666, 669, 672, 675, 678, 681, 684, 687, 690, 693, 696, 699, 702, 705, 708, 711, 714, 717, 720, 723, 726, 729, 732, 735, 738, 741, 744, 747, 750, 753, 756, 759, 762, 765, 768, 771, 774, 777, 780, 783, 786, 789, 792, 795, 798, 801, 804, 807, 810, 813, 816, 819, 822, 825, 828, 831, 834, 837, 840, 843, 846, 849, 852, 855, 858, 861, 864, 867, 870, 873, 876, 879, 882, 885, 888, 891, 894, 897, 900, 903, 906, 909, 912, 915, 918, 921, 924, 927, 930, 933, 936, 939, 942, 945, 948, 951, 954, 957, 960, 963, 966]\n",
      "modulated x coordinates\n",
      "322\n",
      "[3, 6, 9, 12, 15, 18, 21, 24, 27, 30, 2, 5, 8, 11, 14, 17, 20, 23, 26, 29, 1, 4, 7, 10, 13, 16, 19, 22, 25, 28, 0, 3, 6, 9, 12, 15, 18, 21, 24, 27, 30, 2, 5, 8, 11, 14, 17, 20, 23, 26, 29, 1, 4, 7, 10, 13, 16, 19, 22, 25, 28, 0, 3, 6, 9, 12, 15, 18, 21, 24, 27, 30, 2, 5, 8, 11, 14, 17, 20, 23, 26, 29, 1, 4, 7, 10, 13, 16, 19, 22, 25, 28, 0, 3, 6, 9, 12, 15, 18, 21, 24, 27, 30, 2, 5, 8, 11, 14, 17, 20, 23, 26, 29, 1, 4, 7, 10, 13, 16, 19, 22, 25, 28, 0, 3, 6, 9, 12, 15, 18, 21, 24, 27, 30, 2, 5, 8, 11, 14, 17, 20, 23, 26, 29, 1, 4, 7, 10, 13, 16, 19, 22, 25, 28, 0, 3, 6, 9, 12, 15, 18, 21, 24, 27, 30, 2, 5, 8, 11, 14, 17, 20, 23, 26, 29, 1, 4, 7, 10, 13, 16, 19, 22, 25, 28, 0, 3, 6, 9, 12, 15, 18, 21, 24, 27, 30, 2, 5, 8, 11, 14, 17, 20, 23, 26, 29, 1, 4, 7, 10, 13, 16, 19, 22, 25, 28, 0, 3, 6, 9, 12, 15, 18, 21, 24, 27, 30, 2, 5, 8, 11, 14, 17, 20, 23, 26, 29, 1, 4, 7, 10, 13, 16, 19, 22, 25, 28, 0, 3, 6, 9, 12, 15, 18, 21, 24, 27, 30, 2, 5, 8, 11, 14, 17, 20, 23, 26, 29, 1, 4, 7, 10, 13, 16, 19, 22, 25, 28, 0, 3, 6, 9, 12, 15, 18, 21, 24, 27, 30, 2, 5, 8, 11, 14, 17, 20, 23, 26, 29, 1, 4, 7, 10, 13, 16, 19, 22, 25, 28, 0, 3, 6, 9, 12, 15, 18, 21, 24, 27, 30, 2, 5]\n"
     ]
    }
   ],
   "source": [
    "# initiate some variables\n",
    "i = 0\n",
    "x = 0\n",
    "ls = []\n",
    "\n",
    "# traverse the length of the hill and create a list of x coordinates for each slope of the hill\n",
    "while i < counter-1:\n",
    "    x += 3\n",
    "    ls.append(x)\n",
    "    i+=1\n",
    "print('original x coordinates')\n",
    "print(len(ls))\n",
    "print(ls)\n",
    "\n",
    "# use modulus to \"loop\" the string - in this way we account for the infinite landscape\n",
    "mls = [x % 31 for x in ls]\n",
    "print('modulated x coordinates')\n",
    "print(len(mls))\n",
    "print([item for item in mls])"
   ]
  },
  {
   "cell_type": "code",
   "execution_count": 15,
   "metadata": {},
   "outputs": [],
   "source": [
    "#for each slope in the hill, access the element based on the modulated x coordinate\n",
    "y = 1\n",
    "final = []\n",
    "for i in mls:\n",
    "    final.append(colist[y][i])\n",
    "    y+=1"
   ]
  },
  {
   "cell_type": "code",
   "execution_count": 16,
   "metadata": {},
   "outputs": [
    {
     "name": "stdout",
     "output_type": "stream",
     "text": [
      "322\n",
      "['.', '#', '.', '#', '#', '#', '#', '#', '.', '#', '#', '#', '#', '#', '#', '#', '#', '#', '#', '.', '#', '#', '#', '#', '#', '#', '.', '#', '#', '#', '#', '#', '#', '#', '.', '#', '#', '#', '#', '#', '#', '#', '#', '.', '#', '#', '#', '#', '#', '.', '.', '#', '#', '#', '#', '#', '.', '.', '#', '#', '#', '.', '#', '#', '#', '#', '#', '#', '#', '#', '#', '#', '#', '.', '.', '#', '#', '#', '#', '#', '#', '#', '#', '#', '.', '.', '.', '#', '#', '#', '#', '#', '#', '#', '#', '.', '.', '#', '#', '.', '#', '#', '.', '#', '#', '#', '#', '#', '#', '.', '#', '#', '#', '#', '#', '#', '#', '#', '#', '#', '.', '.', '#', '#', '#', '#', '#', '.', '#', '#', '#', '#', '.', '#', '#', '#', '#', '#', '#', '#', '#', '#', '#', '#', '#', '#', '.', '#', '.', '#', '#', '#', '#', '.', '#', '#', '#', '.', '#', '#', '.', '#', '#', '#', '#', '#', '#', '#', '.', '#', '#', '#', '.', '#', '.', '.', '#', '#', '#', '#', '#', '#', '#', '#', '#', '.', '#', '#', '#', '#', '#', '#', '#', '#', '.', '#', '#', '.', '#', '.', '#', '#', '#', '.', '#', '#', '#', '#', '#', '#', '.', '#', '#', '#', '#', '#', '#', '#', '.', '.', '.', '#', '#', '.', '#', '#', '#', '#', '#', '#', '#', '.', '#', '.', '#', '.', '#', '#', '#', '#', '#', '#', '#', '#', '#', '.', '#', '#', '#', '#', '#', '.', '#', '#', '#', '#', '#', '.', '#', '#', '#', '#', '#', '#', '#', '#', '#', '.', '#', '#', '#', '#', '#', '.', '#', '#', '#', '#', '#', '#', '#', '#', '#', '#', '#', '#', '#', '#', '#', '#', '#', '.', '.', '.', '#', '#', '#', '#', '.', '#', '.', '#', '#', '.', '#', '#', '#', '.', '#', '.', '#', '#', '#', '.', '#', '#', '#', '#', '.', '#', '#', '#']\n",
      "number of trees on my map: 259\n"
     ]
    }
   ],
   "source": [
    "print(len(final))\n",
    "print([item for item in final])\n",
    "answer1 = final.count('#')\n",
    "print(f'number of trees on my map: {answer1}')"
   ]
  },
  {
   "cell_type": "markdown",
   "metadata": {},
   "source": [
    "# Part 2\n",
    "---\n",
    "\n",
    "**Problem:** What do you get if you multiply together the number of trees encountered on each of the listed slopes?"
   ]
  },
  {
   "cell_type": "code",
   "execution_count": 53,
   "metadata": {},
   "outputs": [],
   "source": [
    "def coordinate(right,down):\n",
    "    i = 0\n",
    "    x = 0\n",
    "    ls = []\n",
    "\n",
    "    \"\"\"traverse the length of the hill and create a list of x coordinates for each slope of the hill\"\"\"\n",
    "    while i < counter-1:\n",
    "        x += right\n",
    "        ls.append(x)\n",
    "        i+=1\n",
    "    #print('original x coordinates')\n",
    "    #print(len(ls))\n",
    "    #print(ls)\n",
    "\n",
    "    \"\"\"use modulus to \"loop\" the string - in this way we account for the infinite landscape\"\"\"\n",
    "    mls = [x % 31 for x in ls]\n",
    "    #print('modulated x coordinates')\n",
    "    #print(len(mls))\n",
    "    #print([item for item in mls])\n",
    "    \n",
    "    y = down\n",
    "    final = []\n",
    "    for i in mls:\n",
    "        if y < counter:\n",
    "            final.append(colist[y][i])\n",
    "            y+=down\n",
    "        else:\n",
    "            break\n",
    "    \n",
    "    answer = final.count('#')\n",
    "    return answer"
   ]
  },
  {
   "cell_type": "code",
   "execution_count": 55,
   "metadata": {},
   "outputs": [
    {
     "name": "stdout",
     "output_type": "stream",
     "text": [
      "64\n",
      "259\n",
      "65\n",
      "59\n",
      "35\n"
     ]
    }
   ],
   "source": [
    "# enter other coordinates into the udf\n",
    "r1d1 = coordinate(1,1)\n",
    "print(r1d1)\n",
    "r3d1 = coordinate(3,1)\n",
    "print(r3d1)\n",
    "r5d1 = coordinate(5,1)\n",
    "print(r5d1)\n",
    "r7d1 = coordinate(7,1)\n",
    "print(r7d1)\n",
    "r1d2 = coordinate(1,2)\n",
    "print(r1d2)"
   ]
  },
  {
   "cell_type": "code",
   "execution_count": 56,
   "metadata": {},
   "outputs": [
    {
     "data": {
      "text/plain": [
       "2224913600"
      ]
     },
     "execution_count": 56,
     "metadata": {},
     "output_type": "execute_result"
    }
   ],
   "source": [
    "answer2 = r1d1*r3d1*r5d1*r7d1*r1d2\n",
    "print(answer2)"
   ]
  }
 ],
 "metadata": {
  "kernelspec": {
   "display_name": "Python 3",
   "language": "python",
   "name": "python3"
  },
  "language_info": {
   "codemirror_mode": {
    "name": "ipython",
    "version": 3
   },
   "file_extension": ".py",
   "mimetype": "text/x-python",
   "name": "python",
   "nbconvert_exporter": "python",
   "pygments_lexer": "ipython3",
   "version": "3.7.4"
  }
 },
 "nbformat": 4,
 "nbformat_minor": 2
}
