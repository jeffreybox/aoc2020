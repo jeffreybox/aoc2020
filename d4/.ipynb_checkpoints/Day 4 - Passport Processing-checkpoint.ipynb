{
 "cells": [
  {
   "cell_type": "markdown",
   "metadata": {},
   "source": [
    "https://adventofcode.com/2020/day/4"
   ]
  },
  {
   "cell_type": "markdown",
   "metadata": {},
   "source": [
    "# Part 1\n",
    "---\n",
    "**Problem:** \n",
    "* Count the number of valid passports - those that have all required fields. \n",
    "* Treat cid as optional. \n",
    "* In your batch file, how many passports are valid?"
   ]
  },
  {
   "cell_type": "code",
   "execution_count": 6,
   "metadata": {},
   "outputs": [],
   "source": [
    "import re"
   ]
  },
  {
   "cell_type": "code",
   "execution_count": 7,
   "metadata": {},
   "outputs": [],
   "source": [
    "file = 'data/d4_data.txt'"
   ]
  },
  {
   "cell_type": "code",
   "execution_count": 8,
   "metadata": {},
   "outputs": [],
   "source": [
    "\"\"\"clean the text file to prep for dictionary\"\"\"\n",
    "with open(file, \"r\") as f:\n",
    "    content = f.read()\n",
    "    # add curly braces to beginning and end\n",
    "    content = \"{'\" + content + \"'}\"\n",
    "    # remove double carriage return and replace with curly braces\n",
    "    content = content.replace(\"\\n\\n\", \"'},{'\")\n",
    "    # remove single carriage returns and replace with comma\n",
    "    content = content.replace(\"\\n\", \"','\")\n",
    "    # remove white space abd replace with comma\n",
    "    content = content.replace(\" \", \"','\")\n",
    "    # replace colon with colon & quotes\n",
    "    content = content.replace(\":\", \"':'\")\n",
    "    # replace single quotes with double quotes\n",
    "    content = content.replace(\"'\",'\"') "
   ]
  },
  {
   "cell_type": "code",
   "execution_count": 11,
   "metadata": {},
   "outputs": [],
   "source": [
    "\"\"\"convert to list of dictionaries\"\"\"\n",
    "data = list(eval(content)) \n",
    "#print(type(data[0]))\n",
    "#print(data[0])\n",
    "#print(len(data))\n",
    "#data"
   ]
  },
  {
   "cell_type": "code",
   "execution_count": 5,
   "metadata": {},
   "outputs": [],
   "source": [
    "\"\"\"convert dict keys to list\"\"\"\n",
    "def getkeys(d):\n",
    "    l = [] \n",
    "    for key in d.keys(): \n",
    "        l.append(key) \n",
    "    return l"
   ]
  },
  {
   "cell_type": "code",
   "execution_count": 6,
   "metadata": {},
   "outputs": [],
   "source": [
    "\"\"\"convert dict keys to list\"\"\"\n",
    "masterdict = {'byr': 'Birth Year - four digits; at least 1920 and at most 2002.',\n",
    "'iyr': 'Issue Year - four digits; at least 2010 and at most 2020.',\n",
    "'eyr': 'Expiration Year - four digits; at least 2020 and at most 2030',\n",
    "'hgt': 'Height - a number followed by either cm or in: If cm, least 150 most 193. If in, least 59 and  most 76.',\n",
    "'hcl': 'Hair Color - a # followed by exactly six characters 0-9 or a-f.',\n",
    "'ecl': 'Eye Color - exactly one of: amb blu brn gry grn hzl oth.',\n",
    "'pid': 'Passport ID - a nine-digit number, including leading zeroes.',\n",
    "#'cid': 'Country ID - ignore missing or not',\n",
    "}\n",
    "\n",
    "masterkeys = getkeys(masterdict)\n",
    "#print(len(masterkeys))\n",
    "#print(masterkeys)"
   ]
  },
  {
   "cell_type": "code",
   "execution_count": 7,
   "metadata": {},
   "outputs": [],
   "source": [
    "\"\"\"loop through data and compare keys against masterkeys\"\"\"\n",
    "answer1 = 0\n",
    "i = 0\n",
    "for passport in data:\n",
    "    if all(elem in getkeys(data[i]) for elem in masterkeys):\n",
    "        answer1+=1\n",
    "        i+=1\n",
    "    else: \n",
    "        i+=1"
   ]
  },
  {
   "cell_type": "code",
   "execution_count": 8,
   "metadata": {},
   "outputs": [
    {
     "name": "stdout",
     "output_type": "stream",
     "text": [
      "length of data: 276\n",
      "total iterations: 276\n",
      "number of passports that meet criteria: 210\n"
     ]
    }
   ],
   "source": [
    "# check\n",
    "print(f'number of lines of data: {len(content)}')\n",
    "print(f'length of data: {len(data)}')\n",
    "print(f'total iterations: {i}')\n",
    "print(f'number of passports that meet criteria: {answer1}')"
   ]
  },
  {
   "cell_type": "markdown",
   "metadata": {},
   "source": [
    "# Part 2\n",
    "---\n",
    "**Problem:** Do the data validation"
   ]
  },
  {
   "cell_type": "code",
   "execution_count": 9,
   "metadata": {},
   "outputs": [
    {
     "data": {
      "text/plain": [
       "{'iyr': '2015',\n",
       " 'hgt': '59cm',\n",
       " 'byr': '2029',\n",
       " 'cid': '219',\n",
       " 'pid': '9381688753',\n",
       " 'eyr': '1992',\n",
       " 'hcl': '#b6652a',\n",
       " 'ecl': '#7a0fa6'}"
      ]
     },
     "execution_count": 9,
     "metadata": {},
     "output_type": "execute_result"
    }
   ],
   "source": [
    "data[0]"
   ]
  },
  {
   "cell_type": "code",
   "execution_count": 10,
   "metadata": {},
   "outputs": [
    {
     "data": {
      "text/plain": [
       "{'byr': 'Birth Year - four digits; at least 1920 and at most 2002.',\n",
       " 'iyr': 'Issue Year - four digits; at least 2010 and at most 2020.',\n",
       " 'eyr': 'Expiration Year - four digits; at least 2020 and at most 2030',\n",
       " 'hgt': 'Height - a number followed by either cm or in: If cm, least 150 most 193. If in, least 59 and  most 76.',\n",
       " 'hcl': 'Hair Color - a # followed by exactly six characters 0-9 or a-f.',\n",
       " 'ecl': 'Eye Color - exactly one of: amb blu brn gry grn hzl oth.',\n",
       " 'pid': 'Passport ID - a nine-digit number, including leading zeroes.'}"
      ]
     },
     "execution_count": 10,
     "metadata": {},
     "output_type": "execute_result"
    }
   ],
   "source": [
    "# using these conditions to create udfs\n",
    "masterdict"
   ]
  },
  {
   "cell_type": "code",
   "execution_count": 11,
   "metadata": {},
   "outputs": [],
   "source": [
    "def fields(tester):\n",
    "    if all(elem in getkeys(tester) for elem in masterkeys):\n",
    "        return True\n",
    "    else:\n",
    "        return False"
   ]
  },
  {
   "cell_type": "code",
   "execution_count": 12,
   "metadata": {},
   "outputs": [],
   "source": [
    "def byr(tester):\n",
    "    if len(tester['byr']) == 4 and int(tester['byr']) >= 1920 and int(tester['byr']) <= 2002:\n",
    "        return True\n",
    "    else:\n",
    "        return False"
   ]
  },
  {
   "cell_type": "code",
   "execution_count": 13,
   "metadata": {},
   "outputs": [],
   "source": [
    "def iyr(tester):\n",
    "    if len(tester['iyr']) == 4 and int(tester['iyr']) >= 2010 and int(tester['iyr']) <= 2020:\n",
    "        return True\n",
    "    else:\n",
    "        return False"
   ]
  },
  {
   "cell_type": "code",
   "execution_count": 14,
   "metadata": {},
   "outputs": [],
   "source": [
    "def eyr(tester):\n",
    "    if len(tester['eyr']) == 4 and int(tester['eyr']) >= 2020 and int(tester['eyr']) <= 2030:        \n",
    "        return True\n",
    "    else:\n",
    "        return False"
   ]
  },
  {
   "cell_type": "code",
   "execution_count": 22,
   "metadata": {},
   "outputs": [],
   "source": [
    "def hgt(tester):\n",
    "    match = re.match(r\"([0-9]+)([a-z]+)\", tester['hgt'], re.I)\n",
    "    if match:\n",
    "        items = match.groups()\n",
    "        if items[1] == 'cm' and int(items[0]) >= 150 and int(items[0]) <= 193:\n",
    "            return True\n",
    "        elif items[1] == 'in' and int(items[0]) >= 59 and int(items[0]) <= 76:\n",
    "            return True\n",
    "        else:\n",
    "            return False\n",
    "    else:\n",
    "        return False"
   ]
  },
  {
   "cell_type": "code",
   "execution_count": 16,
   "metadata": {},
   "outputs": [],
   "source": [
    "def hcl(tester):\n",
    "    if tester['hcl'][0]=='#' and tester['hcl'][1:].isalnum():\n",
    "        return True\n",
    "    else:\n",
    "        return False"
   ]
  },
  {
   "cell_type": "code",
   "execution_count": 17,
   "metadata": {},
   "outputs": [],
   "source": [
    "def ecl(tester):\n",
    "    eyelist = ['amb','blu','brn','gry','grn','hzl','oth']\n",
    "    if tester['ecl'] in (eyelist):\n",
    "        return True\n",
    "    else:\n",
    "        return False"
   ]
  },
  {
   "cell_type": "code",
   "execution_count": 18,
   "metadata": {},
   "outputs": [],
   "source": [
    "def is_number(n):\n",
    "    try:\n",
    "        int(n) \n",
    "    except ValueError:\n",
    "        return False\n",
    "    return True"
   ]
  },
  {
   "cell_type": "code",
   "execution_count": 19,
   "metadata": {},
   "outputs": [],
   "source": [
    "def pid(tester):\n",
    "    if len(tester['pid']) == 9 and is_number(tester['pid']):\n",
    "        return True\n",
    "    else:\n",
    "        return False"
   ]
  },
  {
   "cell_type": "code",
   "execution_count": 23,
   "metadata": {},
   "outputs": [
    {
     "name": "stdout",
     "output_type": "stream",
     "text": [
      "131\n"
     ]
    }
   ],
   "source": [
    "# combine all the conditional udfs\n",
    "answer2 = 0 \n",
    "for d in data:\n",
    "    if fields(d) and byr(d) and iyr(d) and eyr(d) and hgt(d) and hcl(d) and ecl(d) and pid(d): \n",
    "        answer2+=1\n",
    "    else:\n",
    "        continue\n",
    "print(answer2)"
   ]
  }
 ],
 "metadata": {
  "kernelspec": {
   "display_name": "Python 3",
   "language": "python",
   "name": "python3"
  },
  "language_info": {
   "codemirror_mode": {
    "name": "ipython",
    "version": 3
   },
   "file_extension": ".py",
   "mimetype": "text/x-python",
   "name": "python",
   "nbconvert_exporter": "python",
   "pygments_lexer": "ipython3",
   "version": "3.7.4"
  }
 },
 "nbformat": 4,
 "nbformat_minor": 2
}
