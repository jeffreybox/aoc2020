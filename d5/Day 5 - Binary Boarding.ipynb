{
 "cells": [
  {
   "cell_type": "markdown",
   "metadata": {},
   "source": [
    "https://adventofcode.com/2020/day/5"
   ]
  },
  {
   "cell_type": "markdown",
   "metadata": {},
   "source": [
    "# Part 1\n",
    "---\n",
    "**Problem:**\n",
    "* The first 7 characters will either be F or B\n",
    "* The last three characters will be either L or R\n",
    "* Every seat also has a unique seat ID: multiply the row by 8, then add the column.\n",
    "* As a sanity check, look through your list of boarding passes. What is the highest seat ID on a boarding pass?"
   ]
  },
  {
   "cell_type": "code",
   "execution_count": 1,
   "metadata": {},
   "outputs": [],
   "source": [
    "# dependencies\n",
    "import pandas as pd\n",
    "import numpy as np\n",
    "from math import floor, ceil"
   ]
  },
  {
   "cell_type": "code",
   "execution_count": 2,
   "metadata": {},
   "outputs": [],
   "source": [
    "# data import\n",
    "df = pd.read_csv('data/d5_data.txt', header=None, names=['seats'])\n",
    "data = df['seats'].tolist()"
   ]
  },
  {
   "cell_type": "code",
   "execution_count": 3,
   "metadata": {},
   "outputs": [],
   "source": [
    "#create a midpoint udf for rows\n",
    "def rowselect(seat):\n",
    "    ls = seat[0:7]\n",
    "    lo = 0\n",
    "    hi = 127\n",
    "    for i in ls:\n",
    "        if i == \"F\":\n",
    "            lo = lo\n",
    "            hi = floor((hi+lo)/2)\n",
    "        elif i == \"B\":\n",
    "            lo = ceil((hi+lo)/2)\n",
    "            hi = hi\n",
    "        #print(i, lo, hi)\n",
    "    return lo"
   ]
  },
  {
   "cell_type": "code",
   "execution_count": 4,
   "metadata": {},
   "outputs": [],
   "source": [
    "#create a midpoint udf for columns\n",
    "def colselect(seat):\n",
    "    ls = seat[7:10]\n",
    "    lo = 0  \n",
    "    hi = 7\n",
    "    for j in ls:\n",
    "        if j == \"L\":\n",
    "            lo = lo\n",
    "            hi = floor((hi+lo)/2)\n",
    "        elif j == \"R\":\n",
    "            lo = ceil((hi+lo)/2)\n",
    "            hi = hi\n",
    "        #print(j, lo, hi)\n",
    "    return lo"
   ]
  },
  {
   "cell_type": "code",
   "execution_count": 5,
   "metadata": {},
   "outputs": [],
   "source": [
    "#calculate the seat unique ID\n",
    "def identifier(seat):\n",
    "    a = rowselect(seat)\n",
    "    b = colselect(seat)\n",
    "    uid = a*8+b\n",
    "    return uid"
   ]
  },
  {
   "cell_type": "code",
   "execution_count": 6,
   "metadata": {},
   "outputs": [],
   "source": [
    "# test = 'BFFFBBFRRR' # row 70, column 7, seat ID 567.\n",
    "# test = 'FFFBBBFRRR' # row 14, column 7, seat ID 119.\n",
    "# test = 'BBFFBBFRLL' # row 102, column 4, seat ID 820."
   ]
  },
  {
   "cell_type": "code",
   "execution_count": 7,
   "metadata": {},
   "outputs": [],
   "source": [
    "#run the identifier on the entire dataset\n",
    "idlist = []\n",
    "for d in data:\n",
    "    u = identifier(d)\n",
    "    idlist.append(u)"
   ]
  },
  {
   "cell_type": "code",
   "execution_count": 8,
   "metadata": {},
   "outputs": [
    {
     "name": "stdout",
     "output_type": "stream",
     "text": [
      "883\n"
     ]
    }
   ],
   "source": [
    "answer1 = max(idlist)\n",
    "print(answer1)"
   ]
  },
  {
   "cell_type": "markdown",
   "metadata": {},
   "source": [
    "# Part 2\n",
    "---\n",
    "**Problem:** Your seat wasn't at the very front or back, though; the seats with IDs +1 and -1 from yours will be in your list. What is the ID of your seat?"
   ]
  },
  {
   "cell_type": "code",
   "execution_count": 9,
   "metadata": {},
   "outputs": [
    {
     "data": {
      "text/plain": [
       "85"
      ]
     },
     "execution_count": 9,
     "metadata": {},
     "output_type": "execute_result"
    }
   ],
   "source": [
    "# find min seat ID\n",
    "min(idlist)"
   ]
  },
  {
   "cell_type": "code",
   "execution_count": 10,
   "metadata": {},
   "outputs": [
    {
     "data": {
      "text/plain": [
       "799"
      ]
     },
     "execution_count": 10,
     "metadata": {},
     "output_type": "execute_result"
    }
   ],
   "source": [
    "# create the total range of seat IDs\n",
    "total = np.arange(min(idlist),max(idlist)+1)\n",
    "len(total)"
   ]
  },
  {
   "cell_type": "code",
   "execution_count": 11,
   "metadata": {},
   "outputs": [
    {
     "data": {
      "text/plain": [
       "798"
      ]
     },
     "execution_count": 11,
     "metadata": {},
     "output_type": "execute_result"
    }
   ],
   "source": [
    "# check that we're off by 1\n",
    "len(idlist)"
   ]
  },
  {
   "cell_type": "code",
   "execution_count": 12,
   "metadata": {},
   "outputs": [
    {
     "name": "stdout",
     "output_type": "stream",
     "text": [
      "{532}\n"
     ]
    }
   ],
   "source": [
    "answer2 = set(total).difference(idlist)\n",
    "print(answer2)"
   ]
  }
 ],
 "metadata": {
  "kernelspec": {
   "display_name": "Python 3",
   "language": "python",
   "name": "python3"
  },
  "language_info": {
   "codemirror_mode": {
    "name": "ipython",
    "version": 3
   },
   "file_extension": ".py",
   "mimetype": "text/x-python",
   "name": "python",
   "nbconvert_exporter": "python",
   "pygments_lexer": "ipython3",
   "version": "3.7.4"
  }
 },
 "nbformat": 4,
 "nbformat_minor": 2
}
