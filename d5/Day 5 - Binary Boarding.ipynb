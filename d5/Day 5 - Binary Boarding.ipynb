{
 "cells": [
  {
   "cell_type": "markdown",
   "metadata": {},
   "source": [
    "# Day 5 - Binary Boarding\n",
    "\n",
    "Instead of zones or groups, this airline uses binary space partitioning to seat people. \n",
    "\n",
    "A seat might be specified like FBFBBFFRLR, where F means \"front\", B means \"back\", L means \"left\", and R means \"right\".\n",
    "\n",
    "The first 7 characters will either be F or B; these specify exactly one of the 128 rows on the plane (numbered 0 through 127). Each letter tells you which half of a region the given seat is in. Start with the whole list of rows; the first letter indicates whether the seat is in the front (0 through 63) or the back (64 through 127). The next letter indicates which half of that region the seat is in, and so on until you're left with exactly one row.\n",
    "\n",
    "For example, consider just the first seven characters of FBFBBFFRLR:\n",
    "\n",
    "Start by considering the whole range, rows 0 through 127.\n",
    "* F means to take the lower half, keeping rows 0 through 63.\n",
    "* B means to take the upper half, keeping rows 32 through 63.\n",
    "* F means to take the lower half, keeping rows 32 through 47.\n",
    "* B means to take the upper half, keeping rows 40 through 47.\n",
    "* B keeps rows 44 through 47.\n",
    "* F keeps rows 44 through 45.\n",
    "* The final F keeps the lower of the two, row 44.\n",
    "\n",
    "The last three characters will be either L or R; these specify exactly one of the 8 columns of seats on the plane (numbered 0 through 7). The same process as above proceeds again, this time with only three steps. L means to keep the lower half, while R means to keep the upper half.\n",
    "\n",
    "For example, consider just the last 3 characters of FBFBBFFRLR:\n",
    "\n",
    "* Start by considering the whole range, columns 0 through 7.\n",
    "* R means to take the upper half, keeping columns 4 through 7.\n",
    "* L means to take the lower half, keeping columns 4 through 5.\n",
    "* The final R keeps the upper of the two, column 5.\n",
    "\n",
    "So, decoding FBFBBFFRLR reveals that it is the seat at row 44, column 5.\n",
    "\n",
    "Every seat also has a unique seat ID: multiply the row by 8, then add the column. In this example, the seat has ID 44 * 8 + 5 = 357.\n",
    "\n",
    "* BFFFBBFRRR: row 70, column 7, seat ID 567.\n",
    "* FFFBBBFRRR: row 14, column 7, seat ID 119.\n",
    "* BBFFBBFRLL: row 102, column 4, seat ID 820."
   ]
  },
  {
   "cell_type": "markdown",
   "metadata": {},
   "source": [
    "# Part 1\n",
    "As a sanity check, look through your list of boarding passes. What is the highest seat ID on a boarding pass?"
   ]
  },
  {
   "cell_type": "code",
   "execution_count": 63,
   "metadata": {},
   "outputs": [],
   "source": [
    "import pandas as pd\n",
    "import numpy as np\n",
    "from math import floor, ceil"
   ]
  },
  {
   "cell_type": "code",
   "execution_count": 54,
   "metadata": {},
   "outputs": [],
   "source": [
    "df = pd.read_csv('data/d5_data.txt', header=None, names=['seats'])\n",
    "data = df['seats'].tolist()"
   ]
  },
  {
   "cell_type": "code",
   "execution_count": 55,
   "metadata": {},
   "outputs": [],
   "source": [
    "def rowselect(seat):\n",
    "    ls = seat[0:7]\n",
    "    lo = 0\n",
    "    hi = 127\n",
    "    for i in ls:\n",
    "        if i == \"F\":\n",
    "            lo = lo\n",
    "            hi = floor((hi+lo)/2)\n",
    "        elif i == \"B\":\n",
    "            lo = ceil((hi+lo)/2)\n",
    "            hi = hi\n",
    "        #print(i, lo, hi)\n",
    "    return lo"
   ]
  },
  {
   "cell_type": "code",
   "execution_count": 56,
   "metadata": {},
   "outputs": [],
   "source": [
    "def colselect(seat):\n",
    "    ls = seat[7:10]\n",
    "    lo = 0  \n",
    "    hi = 7\n",
    "    for j in ls:\n",
    "        if j == \"L\":\n",
    "            lo = lo\n",
    "            hi = floor((hi+lo)/2)\n",
    "        elif j == \"R\":\n",
    "            lo = ceil((hi+lo)/2)\n",
    "            hi = hi\n",
    "        #print(j, lo, hi)\n",
    "    return lo"
   ]
  },
  {
   "cell_type": "code",
   "execution_count": 57,
   "metadata": {},
   "outputs": [],
   "source": [
    "def identifier(seat):\n",
    "    a = rowselect(seat)\n",
    "    b = colselect(seat)\n",
    "    uid = a*8+b\n",
    "    return uid"
   ]
  },
  {
   "cell_type": "code",
   "execution_count": 49,
   "metadata": {},
   "outputs": [],
   "source": [
    "# test = 'BFFFBBFRRR' # row 70, column 7, seat ID 567.\n",
    "# test = 'FFFBBBFRRR' # row 14, column 7, seat ID 119.\n",
    "# test = 'BBFFBBFRLL' # row 102, column 4, seat ID 820."
   ]
  },
  {
   "cell_type": "code",
   "execution_count": 58,
   "metadata": {},
   "outputs": [],
   "source": [
    "idlist = []\n",
    "for d in data:\n",
    "    u = identifier(d)\n",
    "    idlist.append(u)"
   ]
  },
  {
   "cell_type": "code",
   "execution_count": 60,
   "metadata": {},
   "outputs": [
    {
     "data": {
      "text/plain": [
       "883"
      ]
     },
     "execution_count": 60,
     "metadata": {},
     "output_type": "execute_result"
    }
   ],
   "source": [
    "max(idlist)"
   ]
  },
  {
   "cell_type": "markdown",
   "metadata": {},
   "source": [
    "# Part 2\n",
    "\n",
    "Ding! The \"fasten seat belt\" signs have turned on. Time to find your seat.\n",
    "\n",
    "It's a completely full flight, so your seat should be the only missing boarding pass in your list. However, there's a catch: some of the seats at the very front and back of the plane don't exist on this aircraft, so they'll be missing from your list as well.\n",
    "\n",
    "Your seat wasn't at the very front or back, though; the seats with IDs +1 and -1 from yours will be in your list.\n",
    "\n",
    "What is the ID of your seat?"
   ]
  },
  {
   "cell_type": "code",
   "execution_count": 61,
   "metadata": {},
   "outputs": [
    {
     "data": {
      "text/plain": [
       "85"
      ]
     },
     "execution_count": 61,
     "metadata": {},
     "output_type": "execute_result"
    }
   ],
   "source": [
    "min(idlist)"
   ]
  },
  {
   "cell_type": "code",
   "execution_count": 66,
   "metadata": {},
   "outputs": [
    {
     "data": {
      "text/plain": [
       "799"
      ]
     },
     "execution_count": 66,
     "metadata": {},
     "output_type": "execute_result"
    }
   ],
   "source": [
    "total = np.arange(min(idlist),max(idlist)+1)\n",
    "len(total)"
   ]
  },
  {
   "cell_type": "code",
   "execution_count": 67,
   "metadata": {},
   "outputs": [
    {
     "data": {
      "text/plain": [
       "798"
      ]
     },
     "execution_count": 67,
     "metadata": {},
     "output_type": "execute_result"
    }
   ],
   "source": [
    "len(idlist)"
   ]
  },
  {
   "cell_type": "code",
   "execution_count": 68,
   "metadata": {},
   "outputs": [
    {
     "name": "stdout",
     "output_type": "stream",
     "text": [
      "{532}\n"
     ]
    }
   ],
   "source": [
    "print((set(total).difference(idlist))) "
   ]
  }
 ],
 "metadata": {
  "kernelspec": {
   "display_name": "Python 3",
   "language": "python",
   "name": "python3"
  },
  "language_info": {
   "codemirror_mode": {
    "name": "ipython",
    "version": 3
   },
   "file_extension": ".py",
   "mimetype": "text/x-python",
   "name": "python",
   "nbconvert_exporter": "python",
   "pygments_lexer": "ipython3",
   "version": "3.7.4"
  }
 },
 "nbformat": 4,
 "nbformat_minor": 2
}
