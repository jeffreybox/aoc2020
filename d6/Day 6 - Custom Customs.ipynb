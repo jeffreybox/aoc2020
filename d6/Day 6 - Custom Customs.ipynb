{
 "cells": [
  {
   "cell_type": "markdown",
   "metadata": {},
   "source": [
    "https://adventofcode.com/2020/day/6"
   ]
  },
  {
   "cell_type": "markdown",
   "metadata": {},
   "source": [
    "# Part 1\n",
    "**Problem:** For each group, count the number of questions to which anyone answered \"yes\". What is the sum of those counts?"
   ]
  },
  {
   "cell_type": "code",
   "execution_count": 2,
   "metadata": {},
   "outputs": [],
   "source": [
    "# dependencies\n",
    "import ast\n",
    "import numpy as np\n",
    "from collections import Counter"
   ]
  },
  {
   "cell_type": "code",
   "execution_count": 3,
   "metadata": {},
   "outputs": [],
   "source": [
    "file = \"data/d5_data.txt\"\n",
    "delim = '\\n'"
   ]
  },
  {
   "cell_type": "code",
   "execution_count": 4,
   "metadata": {},
   "outputs": [],
   "source": [
    "# import data and clean\n",
    "with open(file, \"r\") as f:\n",
    "    content = f.read()\n",
    "     # add brackets to beginning and end\n",
    "    content = \"['\" + content + \"']\"\n",
    "    # remove double carriage return and replace with brackets\n",
    "    content = content.replace(\"\\n\\n\", \"'],['\")\n",
    "    # remove single carriage returns and replace with comma\n",
    "    content = content.replace(\"\\n\", \"','\")"
   ]
  },
  {
   "cell_type": "code",
   "execution_count": 5,
   "metadata": {},
   "outputs": [
    {
     "name": "stdout",
     "output_type": "stream",
     "text": [
      "<class 'list'>\n"
     ]
    },
    {
     "data": {
      "text/plain": [
       "[['wzaopvscxknyjtiul', 'belforsgdhuvmwc'],\n",
       " ['kiocpzjhsetqnwbl',\n",
       "  'maciywlbpodgevujnsktrz',\n",
       "  'kpebjfchtlsonwiz',\n",
       "  'pcezwjtsinxlobk'],\n",
       " ['lrcp', 'cdlbepr', 'rlqcyutp', 'lcpr', 'lrtcpym'],\n",
       " ['gxcqbowaelfjhpknz', 'gflhackzwqxojeb', 'lfwocexqbkjhgaz'],\n",
       " ['fpivaozqnkextmbrjhycdwug',\n",
       "  'motgcrzaisqlpdwbeyhukf',\n",
       "  'hbiqcdmkpawueyztgfor',\n",
       "  'zrcehkqyoblmtgfiaupdw']]"
      ]
     },
     "execution_count": 5,
     "metadata": {},
     "output_type": "execute_result"
    }
   ],
   "source": [
    "# convert the string to a list of lists\n",
    "data = list(ast.literal_eval(content))\n",
    "print(type(data))\n",
    "data[0:5]"
   ]
  },
  {
   "cell_type": "code",
   "execution_count": 6,
   "metadata": {},
   "outputs": [],
   "source": [
    "# count\n",
    "answer1 = 0\n",
    "for d in data:\n",
    "    elem = \"\".join(set(d))\n",
    "    u = len(set(elem))\n",
    "    answer1 = answer1+u"
   ]
  },
  {
   "cell_type": "code",
   "execution_count": 7,
   "metadata": {},
   "outputs": [
    {
     "data": {
      "text/plain": [
       "6585"
      ]
     },
     "execution_count": 7,
     "metadata": {},
     "output_type": "execute_result"
    }
   ],
   "source": [
    "answer1"
   ]
  },
  {
   "cell_type": "markdown",
   "metadata": {},
   "source": [
    "# Part 2"
   ]
  },
  {
   "cell_type": "code",
   "execution_count": 8,
   "metadata": {},
   "outputs": [],
   "source": [
    "# check if any individual strings contain duplicate letters\n",
    "for d in data:\n",
    "    for part in d:\n",
    "        if len(part) != len(set(part)):\n",
    "            print(f'length: {len(part)} and set length: {len(set(part))} for {part}')"
   ]
  },
  {
   "cell_type": "code",
   "execution_count": 10,
   "metadata": {},
   "outputs": [],
   "source": [
    "# check if the data is one person and then check the number of answers that meet criteria\n",
    "answer2 = 0\n",
    "for d in data:\n",
    "    if len(d) == 1:\n",
    "        answer2 += len(d[0]) # this counts all values for a single person group\n",
    "    else:\n",
    "        elem = \"\".join(d)\n",
    "        c = Counter(elem)\n",
    "        for k,v in c.items():\n",
    "            if v == len(d): # this determines if everyone said yes to an answer\n",
    "                answer2+=1"
   ]
  },
  {
   "cell_type": "code",
   "execution_count": 11,
   "metadata": {},
   "outputs": [
    {
     "data": {
      "text/plain": [
       "3276"
      ]
     },
     "execution_count": 11,
     "metadata": {},
     "output_type": "execute_result"
    }
   ],
   "source": [
    "answer2"
   ]
  }
 ],
 "metadata": {
  "kernelspec": {
   "display_name": "Python 3",
   "language": "python",
   "name": "python3"
  },
  "language_info": {
   "codemirror_mode": {
    "name": "ipython",
    "version": 3
   },
   "file_extension": ".py",
   "mimetype": "text/x-python",
   "name": "python",
   "nbconvert_exporter": "python",
   "pygments_lexer": "ipython3",
   "version": "3.7.4"
  }
 },
 "nbformat": 4,
 "nbformat_minor": 2
}
