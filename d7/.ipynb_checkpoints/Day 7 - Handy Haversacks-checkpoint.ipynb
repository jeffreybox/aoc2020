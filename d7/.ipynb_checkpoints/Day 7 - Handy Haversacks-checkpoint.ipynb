{
 "cells": [
  {
   "cell_type": "markdown",
   "metadata": {},
   "source": [
    "https://adventofcode.com/2020/day/7"
   ]
  },
  {
   "cell_type": "code",
   "execution_count": 1,
   "metadata": {},
   "outputs": [],
   "source": [
    "import re"
   ]
  },
  {
   "cell_type": "markdown",
   "metadata": {},
   "source": [
    "# Test"
   ]
  },
  {
   "cell_type": "code",
   "execution_count": 2,
   "metadata": {},
   "outputs": [],
   "source": [
    "file = \"data/example.txt\""
   ]
  },
  {
   "cell_type": "code",
   "execution_count": 3,
   "metadata": {},
   "outputs": [],
   "source": [
    "with open(file, \"r\") as f:\n",
    "    test = f.readlines()"
   ]
  },
  {
   "cell_type": "code",
   "execution_count": 4,
   "metadata": {},
   "outputs": [
    {
     "name": "stdout",
     "output_type": "stream",
     "text": [
      "answer to test data = 4\n"
     ]
    },
    {
     "data": {
      "text/plain": [
       "['light red bags contain 1 bright white bag, 2 muted yellow bags.\\n',\n",
       " 'dark orange bags contain 3 bright white bags, 4 muted yellow bags.\\n',\n",
       " 'bright white bags contain 1 shiny gold bag.\\n',\n",
       " 'muted yellow bags contain 2 shiny gold bags, 9 faded blue bags.\\n',\n",
       " 'shiny gold bags contain 1 dark olive bag, 2 vibrant plum bags.\\n',\n",
       " 'dark olive bags contain 3 faded blue bags, 4 dotted black bags.\\n',\n",
       " 'vibrant plum bags contain 5 faded blue bags, 6 dotted black bags.\\n',\n",
       " 'faded blue bags contain no other bags.\\n',\n",
       " 'dotted black bags contain no other bags.']"
      ]
     },
     "execution_count": 4,
     "metadata": {},
     "output_type": "execute_result"
    }
   ],
   "source": [
    "answer = 4\n",
    "print(f'answer to test data = {answer}')\n",
    "test"
   ]
  },
  {
   "cell_type": "code",
   "execution_count": 5,
   "metadata": {},
   "outputs": [],
   "source": [
    "def regexer(data):\n",
    "    bags = {}\n",
    "    for line in data:\n",
    "        templist = []\n",
    "        m = re.match(r\"(.*) bags contain (.*)$\", line)\n",
    "        #print(m)\n",
    "        color = m.group(1)\n",
    "        #print(color)\n",
    "        contents = m.group(2)\n",
    "        #print(contents)\n",
    "        bags[color] = re.findall(r\"([\\d]+) (.*?) bag\", contents)\n",
    "        #print(children)\n",
    "    return bags"
   ]
  },
  {
   "cell_type": "code",
   "execution_count": 6,
   "metadata": {},
   "outputs": [
    {
     "name": "stdout",
     "output_type": "stream",
     "text": [
      "{'light red': [('1', 'bright white'), ('2', 'muted yellow')], 'dark orange': [('3', 'bright white'), ('4', 'muted yellow')], 'bright white': [('1', 'shiny gold')], 'muted yellow': [('2', 'shiny gold'), ('9', 'faded blue')], 'shiny gold': [('1', 'dark olive'), ('2', 'vibrant plum')], 'dark olive': [('3', 'faded blue'), ('4', 'dotted black')], 'vibrant plum': [('5', 'faded blue'), ('6', 'dotted black')], 'faded blue': [], 'dotted black': []}\n"
     ]
    }
   ],
   "source": [
    "bags = regexer(test)\n",
    "print(bags)"
   ]
  },
  {
   "cell_type": "code",
   "execution_count": 10,
   "metadata": {},
   "outputs": [],
   "source": [
    "def golddigger(color):\n",
    "    if color == 'shiny gold': \n",
    "        return True\n",
    "    else:\n",
    "        return any(golddigger(j) for _,j in bags[color]) # underscore to ignore the quant value"
   ]
  },
  {
   "cell_type": "code",
   "execution_count": 11,
   "metadata": {},
   "outputs": [],
   "source": [
    "def knapsacker(bags):\n",
    "    total = 0\n",
    "    for bag in bags:\n",
    "        if bag == 'shiny gold':\n",
    "            continue\n",
    "        else:\n",
    "            if golddigger(bag):\n",
    "                total += 1\n",
    "    return total"
   ]
  },
  {
   "cell_type": "code",
   "execution_count": 12,
   "metadata": {},
   "outputs": [
    {
     "name": "stdout",
     "output_type": "stream",
     "text": [
      "Answer = 4. Does test answer match? True\n"
     ]
    }
   ],
   "source": [
    "testanswer = knapsacker(bags)\n",
    "print(f'Answer = {testanswer}. Does test answer match? {testanswer==answer}')"
   ]
  },
  {
   "cell_type": "markdown",
   "metadata": {},
   "source": [
    "# Part 1\n",
    "**Problem:** How many colors can, eventually, contain at least one shiny gold bag?"
   ]
  },
  {
   "cell_type": "code",
   "execution_count": 13,
   "metadata": {},
   "outputs": [],
   "source": [
    "file = \"data/d7_data.txt\""
   ]
  },
  {
   "cell_type": "code",
   "execution_count": 14,
   "metadata": {},
   "outputs": [],
   "source": [
    "with open(file, \"r\") as f:\n",
    "    data = f.readlines()"
   ]
  },
  {
   "cell_type": "code",
   "execution_count": 15,
   "metadata": {},
   "outputs": [],
   "source": [
    "bags = regexer(data)"
   ]
  },
  {
   "cell_type": "code",
   "execution_count": 16,
   "metadata": {},
   "outputs": [
    {
     "name": "stdout",
     "output_type": "stream",
     "text": [
      "119\n"
     ]
    }
   ],
   "source": [
    "answer1 = knapsacker(bags)\n",
    "print(answer1)"
   ]
  },
  {
   "cell_type": "markdown",
   "metadata": {},
   "source": [
    "# Part 2\n",
    "**Problem:** How many individual bags are required inside your single shiny gold bag?"
   ]
  },
  {
   "cell_type": "code",
   "execution_count": null,
   "metadata": {},
   "outputs": [],
   "source": []
  }
 ],
 "metadata": {
  "kernelspec": {
   "display_name": "Python 3",
   "language": "python",
   "name": "python3"
  },
  "language_info": {
   "codemirror_mode": {
    "name": "ipython",
    "version": 3
   },
   "file_extension": ".py",
   "mimetype": "text/x-python",
   "name": "python",
   "nbconvert_exporter": "python",
   "pygments_lexer": "ipython3",
   "version": "3.7.4"
  }
 },
 "nbformat": 4,
 "nbformat_minor": 2
}
